{
 "cells": [
  {
   "cell_type": "code",
   "execution_count": null,
   "metadata": {},
   "outputs": [],
   "source": [
    "# Problem 1: Transfer Learning\n",
    "# 1. Choose a pre-trained deep learning model that has been trained to classify images.\n",
    "# 2. Use the German Traffic Sign Dataset below (that the pre-trained model in (1) wasn't trained on) to define a new \"traffic sign\" classification problem.\n",
    "# 3. Use transfer learning to adapt the pre-trained model in (1) to your new image classification problem in (2).\n",
    "# 4. Is your new model able to classify test images from (2) with high accuracy? "
   ]
  }
 ],
 "metadata": {
  "language_info": {
   "name": "python"
  }
 },
 "nbformat": 4,
 "nbformat_minor": 2
}
