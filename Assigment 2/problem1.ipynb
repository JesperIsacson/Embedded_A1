{
 "cells": [
  {
   "cell_type": "code",
   "execution_count": null,
   "metadata": {},
   "outputs": [],
   "source": [
    "# Problem 1: Transfer Learning\n",
    "# 1. Choose a pre-trained deep learning model that has been trained to classify images.\n",
    "# 2. Use the German Traffic Sign Dataset below (that the pre-trained model in (1) wasn't trained on) to define a new \"traffic sign\" classification problem.\n",
    "# 3. Use transfer learning to adapt the pre-trained model in (1) to your new image classification problem in (2).\n",
    "# 4. Is your new model able to classify test images from (2) with high accuracy? "
   ]
  },
  {
   "cell_type": "code",
   "execution_count": null,
   "metadata": {},
   "outputs": [],
   "source": [
    "import os\n",
    "import numpy as np\n",
    "import time\n",
    "import cv2\n",
    "\n",
    "import PIL.Image as Image\n",
    "import matplotlib.pylab as plt\n",
    "\n",
    "import tensorflow as tf\n",
    "import tensorflow_hub as hub\n",
    "\n",
    "import pandas as pd\n",
    "from sklearn.model_selection import train_test_split\n",
    "from keras.utils import to_categorical\n",
    "from tensorflow.keras.preprocessing.image import ImageDataGenerator, img_to_array, array_to_img, load_img\n",
    "from sklearn.metrics import accuracy_score"
   ]
  },
  {
   "cell_type": "code",
   "execution_count": null,
   "metadata": {},
   "outputs": [
    {
     "data": {
      "text/plain": [
       "[PhysicalDevice(name='/physical_device:CPU:0', device_type='CPU'),\n",
       " PhysicalDevice(name='/physical_device:GPU:0', device_type='GPU')]"
      ]
     },
     "metadata": {},
     "output_type": "display_data"
    }
   ],
   "source": [
    "tf.config.list_physical_devices()"
   ]
  },
  {
   "cell_type": "code",
   "execution_count": null,
   "metadata": {},
   "outputs": [],
   "source": [
    "def load_images_from_folder(folder):\n",
    "    images = []\n",
    "    for filename in os.listdir(folder):\n",
    "        img = cv2.imread(os.path.join(folder,filename), cv2.IMREAD_COLOR)\n",
    "        if img is not None:\n",
    "            img = cv2.cvtColor(img, cv2.COLOR_BGR2RGB)\n",
    "            images.append(img)\n",
    "    return images"
   ]
  },
  {
   "cell_type": "code",
   "execution_count": null,
   "metadata": {},
   "outputs": [],
   "source": [
    "IMAGE_SHAPE = (128, 128)\n",
    "batch_size = 32\n",
    "model_path =\"https://tfhub.dev/google/bit/m-r101x3/ilsvrc2012_classification/1\""
   ]
  },
  {
   "cell_type": "code",
   "execution_count": null,
   "metadata": {},
   "outputs": [],
   "source": [
    "classes = pd.read_csv(\"archive/Meta.csv\")[\"ClassId\"].unique()\n",
    "test_labels = pd.read_csv(\"archive/Test.csv\")[\"ClassId\"]"
   ]
  },
  {
   "cell_type": "code",
   "execution_count": null,
   "metadata": {},
   "outputs": [],
   "source": [
    "tfhub_cache_dir = os.path.join(os.getcwd(),'tfhub_cache')\n",
    "os.makedirs(tfhub_cache_dir, exist_ok = True)\n",
    "os.environ['TFHUB_CACHE_DIR'] = tfhub_cache_dir"
   ]
  },
  {
   "cell_type": "markdown",
   "metadata": {},
   "source": [
    "### Dataset Config"
   ]
  },
  {
   "cell_type": "code",
   "execution_count": null,
   "metadata": {},
   "outputs": [],
   "source": [
    "data = []\n",
    "labels = []\n",
    "classes = 43\n",
    "cur_path = os.getcwd()\n",
    "\n",
    "data_directory = './archive'\n",
    "\n",
    "for i in range(classes):\n",
    "    path = os.path.join(data_directory, 'Train', str(i))\n",
    "    images = os.listdir(path)\n",
    "    for a in images:\n",
    "        try:\n",
    "            image = Image.open(os.path.join(path, a))\n",
    "            image = image.resize((30, 30))\n",
    "            image = np.array(image)\n",
    "            data.append(image)\n",
    "            labels.append(i)\n",
    "        except:\n",
    "            print(\"Error loading image\")\n",
    "\n",
    "data = np.array(data)\n",
    "labels = np.array(labels)"
   ]
  },
  {
   "cell_type": "code",
   "execution_count": null,
   "metadata": {},
   "outputs": [],
   "source": [
    "#Splitting training and testing dataset\n",
    "\n",
    "X_train, X_val, y_train, y_val = train_test_split(data, labels, test_size=0.2, random_state=42)\n",
    "\n",
    "#Converting the labels into one hot encoding\n",
    "y_train = to_categorical(y_train, 43)\n",
    "y_val = to_categorical(y_val, 43)"
   ]
  },
  {
   "cell_type": "code",
   "execution_count": null,
   "metadata": {},
   "outputs": [],
   "source": [
    "X_train = tf.convert_to_tensor(X_train)\n",
    "y_train = tf.convert_to_tensor(y_train)\n",
    "\n",
    "X_val = tf.convert_to_tensor(X_val)\n",
    "y_val = tf.convert_to_tensor(y_val)\n",
    "\n",
    "train_ds = tf.data.Dataset.from_tensor_slices((X_train, y_train))\n",
    "val_ds = tf.data.Dataset.from_tensor_slices((X_val, y_val))"
   ]
  },
  {
   "cell_type": "code",
   "execution_count": null,
   "metadata": {},
   "outputs": [],
   "source": [
    "AUTOTUNE = tf.data.AUTOTUNE\n",
    "\n",
    "train_ds = train_ds.batch(batch_size).prefetch(AUTOTUNE)\n",
    "val_ds = val_ds.batch(batch_size).prefetch(AUTOTUNE)"
   ]
  },
  {
   "cell_type": "markdown",
   "metadata": {},
   "source": [
    "### Model Building and Traning"
   ]
  },
  {
   "cell_type": "code",
   "execution_count": null,
   "metadata": {},
   "outputs": [],
   "source": [
    "# get the classifier without head\n",
    "classifier = hub.KerasLayer(\n",
    "    model_path, input_shape=(30,30, 3), trainable=False)"
   ]
  },
  {
   "cell_type": "code",
   "execution_count": null,
   "metadata": {},
   "outputs": [],
   "source": [
    "classifier.trainable = False  # Freeze the outer model"
   ]
  },
  {
   "cell_type": "code",
   "execution_count": null,
   "metadata": {},
   "outputs": [
    {
     "name": "stdout",
     "output_type": "stream",
     "text": [
      "Model: \"sequential\"\n",
      "_________________________________________________________________\n",
      " Layer (type)                Output Shape              Param #   \n",
      "=================================================================\n",
      " keras_layer (KerasLayer)    (None, 1000)              387934888 \n",
      "                                                                 \n",
      " batch_normalization (BatchN  (None, 1000)             4000      \n",
      " ormalization)                                                   \n",
      "                                                                 \n",
      " dense (Dense)               (None, 43)                43043     \n",
      "                                                                 \n",
      "=================================================================\n",
      "Total params: 387,981,931\n",
      "Trainable params: 45,043\n",
      "Non-trainable params: 387,936,888\n",
      "_________________________________________________________________\n"
     ]
    }
   ],
   "source": [
    "num_classes = 43\n",
    "\n",
    "model = tf.keras.Sequential([\n",
    "  classifier,\n",
    "  tf.keras.layers.BatchNormalization(),\n",
    "  tf.keras.layers.Dense(num_classes, activation=\"softmax\")\n",
    "])\n",
    "\n",
    "model.summary()"
   ]
  },
  {
   "cell_type": "code",
   "execution_count": null,
   "metadata": {},
   "outputs": [],
   "source": [
    "model.compile(\n",
    "  optimizer=tf.keras.optimizers.Adam(),\n",
    "  loss=tf.keras.losses.CategoricalCrossentropy(),\n",
    "  metrics=['acc'])\n",
    "\n",
    "early_stopping = tf.keras.callbacks.EarlyStopping(\n",
    "    monitor='val_acc',\n",
    "    min_delta=0.01,\n",
    "    patience=5)"
   ]
  },
  {
   "cell_type": "code",
   "execution_count": null,
   "metadata": {},
   "outputs": [
    {
     "name": "stdout",
     "output_type": "stream",
     "text": [
      "Epoch 1/50\n",
      "981/981 [==============================] - 188s 172ms/step - loss: 1.7311 - acc: 0.4751 - val_loss: 1.4066 - val_acc: 0.5570\n",
      "Epoch 2/50\n",
      "981/981 [==============================] - 164s 167ms/step - loss: 1.2698 - acc: 0.5893 - val_loss: 1.2769 - val_acc: 0.5940\n",
      "Epoch 3/50\n",
      "981/981 [==============================] - 164s 167ms/step - loss: 1.1314 - acc: 0.6296 - val_loss: 1.2151 - val_acc: 0.6093\n",
      "Epoch 4/50\n",
      "981/981 [==============================] - 164s 167ms/step - loss: 1.0462 - acc: 0.6574 - val_loss: 1.1778 - val_acc: 0.6246\n",
      "Epoch 5/50\n",
      "981/981 [==============================] - 164s 167ms/step - loss: 0.9847 - acc: 0.6760 - val_loss: 1.1533 - val_acc: 0.6320\n",
      "Epoch 6/50\n",
      "981/981 [==============================] - 163s 167ms/step - loss: 0.9368 - acc: 0.6911 - val_loss: 1.1362 - val_acc: 0.6400\n",
      "Epoch 7/50\n",
      "981/981 [==============================] - 165s 168ms/step - loss: 0.8976 - acc: 0.7036 - val_loss: 1.1240 - val_acc: 0.6450\n",
      "Epoch 8/50\n",
      "981/981 [==============================] - 165s 168ms/step - loss: 0.8645 - acc: 0.7149 - val_loss: 1.1150 - val_acc: 0.6478\n",
      "Epoch 9/50\n",
      "981/981 [==============================] - 165s 168ms/step - loss: 0.8360 - acc: 0.7243 - val_loss: 1.1085 - val_acc: 0.6502\n",
      "Epoch 10/50\n",
      "981/981 [==============================] - 162s 165ms/step - loss: 0.8109 - acc: 0.7320 - val_loss: 1.1038 - val_acc: 0.6529\n",
      "Epoch 11/50\n",
      "981/981 [==============================] - 158s 161ms/step - loss: 0.7887 - acc: 0.7393 - val_loss: 1.1006 - val_acc: 0.6556\n",
      "Epoch 12/50\n",
      "981/981 [==============================] - 159s 162ms/step - loss: 0.7686 - acc: 0.7460 - val_loss: 1.0984 - val_acc: 0.6579\n",
      "Epoch 13/50\n",
      "981/981 [==============================] - 158s 161ms/step - loss: 0.7504 - acc: 0.7516 - val_loss: 1.0973 - val_acc: 0.6591\n",
      "Epoch 14/50\n",
      "981/981 [==============================] - 161s 164ms/step - loss: 0.7337 - acc: 0.7568 - val_loss: 1.0970 - val_acc: 0.6597\n"
     ]
    }
   ],
   "source": [
    "history = model.fit(train_ds, validation_data=val_ds, epochs=50, callbacks=[early_stopping], batch_size=batch_size)"
   ]
  },
  {
   "cell_type": "code",
   "execution_count": null,
   "metadata": {},
   "outputs": [
    {
     "data": {
      "text/plain": [
       "<matplotlib.legend.Legend at 0x185804f6f40>"
      ]
     },
     "metadata": {},
     "output_type": "display_data"
    },
    {
     "data": {
      "image/png": "[encoded data removed]",
      "text/plain": [
       "<Figure size 640x480 with 1 Axes>"
      ]
     },
     "metadata": {},
     "output_type": "display_data"
    }
   ],
   "source": [
    "accuracy  = history.history[\"acc\"]\n",
    "#val_accuracy  = history[\"val_accuracy\"]\n",
    "epochs = len(accuracy)\n",
    "\n",
    "\n",
    "plt.plot(history.epoch, accuracy, 'y', label='Training Accuracy')\n",
    "#plt.plot(epochs, val_accuracy, 'r', label='Validation Accuracy')\n",
    "plt.title('Training and Validation Accuracy')\n",
    "plt.xlabel('Epochs')\n",
    "plt.ylabel('Accuracy')\n",
    "plt.legend()"
   ]
  },
  {
   "cell_type": "code",
   "execution_count": null,
   "metadata": {},
   "outputs": [
    {
     "data": {
      "text/plain": [
       "<matplotlib.legend.Legend at 0x185657f06d0>"
      ]
     },
     "metadata": {},
     "output_type": "display_data"
    },
    {
     "data": {
      "image/png": "[encoded data removed]",
      "text/plain": [
       "<Figure size 640x480 with 1 Axes>"
      ]
     },
     "metadata": {},
     "output_type": "display_data"
    }
   ],
   "source": [
    "loss  = history.history['loss']\n",
    "#val_loss = history.history['val_loss']\n",
    "\n",
    "plt.plot(history.epoch, loss, 'y', label='Training Loss')\n",
    "#plt.plot(epochs, val_loss, 'r', label='Validation Loss')\n",
    "plt.title('Training and Validation Loss')\n",
    "plt.xlabel('Epochs')\n",
    "plt.ylabel('Accuracy')\n",
    "plt.legend()"
   ]
  },
  {
   "cell_type": "code",
   "execution_count": null,
   "metadata": {},
   "outputs": [],
   "source": [
    "test_data = pd.read_csv(\"./archive/Test.csv\")\n",
    "labels = test_data[\"ClassId\"].values\n",
    "filenames = test_data[\"Path\"].values\n",
    "\n",
    "data2 = []\n",
    "\n",
    "for filename in filenames:\n",
    "    img_path = os.path.join(\"./archive\", filename)\n",
    "    image = Image.open(img_path)\n",
    "    image = image.resize((30,30))\n",
    "    data2.append(np.array(image))"
   ]
  },
  {
   "cell_type": "code",
   "execution_count": null,
   "metadata": {},
   "outputs": [
    {
     "name": "stdout",
     "output_type": "stream",
     "text": [
      "395/395 [==============================] - 46s 112ms/step\n"
     ]
    },
    {
     "data": {
      "text/plain": [
       "0.45027711797307995"
      ]
     },
     "metadata": {},
     "output_type": "display_data"
    }
   ],
   "source": [
    "X_test = np.array(data2)\n",
    "\n",
    "pred_probs = model.predict(X_test)\n",
    "\n",
    "pred = np.argmax(pred_probs, axis=1)\n",
    "\n",
    "acc = accuracy_score(labels, pred)\n",
    "acc"
   ]
  },
  {
   "cell_type": "code",
   "execution_count": null,
   "metadata": {},
   "outputs": [],
   "source": [
    "pred_df = pd.DataFrame(pred)\n",
    "pred_df.to_csv(\"preds.csv\")"
   ]
  },
  {
   "cell_type": "markdown",
   "metadata": {},
   "source": [
    "### Check Predictions"
   ]
  },
  {
   "cell_type": "code",
   "execution_count": null,
   "metadata": {},
   "outputs": [],
   "source": [
    "#plt.figure(figsize=(10,9))\n",
    "#plt.subplots_adjust(hspace=0.5)\n",
    "#for n in range(15):\n",
    "#  plt.subplot(6,5, n+1)\n",
    "#  plt.imshow(test_ds[n])\n",
    "#  plt.imshow()\n",
    "#  plt.axis('off')\n",
    "#_ = plt.suptitle(\"Model predictions\")"
   ]
  },
  {
   "cell_type": "markdown",
   "metadata": {},
   "source": [
    "### Save Model"
   ]
  },
  {
   "cell_type": "code",
   "execution_count": null,
   "metadata": {},
   "outputs": [
    {
     "name": "stdout",
     "output_type": "stream",
     "text": [
      "INFO:tensorflow:Assets written to: c:\\Users\\isacs\\source\\repos\\Embedded_A1\\Assigment 2\\saved_models\\model\\assets\n"
     ]
    },
    {
     "name": "stderr",
     "output_type": "stream",
     "text": [
      "INFO:tensorflow:Assets written to: c:\\Users\\isacs\\source\\repos\\Embedded_A1\\Assigment 2\\saved_models\\model\\assets\n"
     ]
    }
   ],
   "source": [
    "export_path = os.path.join(os.getcwd(),'saved_models','model')\n",
    "model.save(export_path)"
   ]
  }
 ],
 "metadata": {
  "kernelspec": {
   "display_name": "Python 3",
   "language": "python",
   "name": "python3"
  },
  "language_info": {
   "codemirror_mode": {
    "name": "ipython",
    "version": 3
   },
   "file_extension": ".py",
   "mimetype": "text/x-python",
   "name": "python",
   "nbconvert_exporter": "python",
   "pygments_lexer": "ipython3",
   "version": "3.10.13"
  }
 },
 "nbformat": 4,
 "nbformat_minor": 2
}
