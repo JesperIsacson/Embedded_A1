{
 "cells": [
  {
   "cell_type": "code",
   "execution_count": null,
   "metadata": {},
   "outputs": [],
   "source": [
    "# Problem 2: Model Compression\n",
    "# 1.Compress your new model from problem 1 by converting it into a TF Lite model.\n",
    "# 2.Use the TensorFlow Interpreter to load your compressed model in (1) and classify new images.\n",
    "# 3.How big is your compressed model compared to the pre-compressed model in problem 1?\n",
    "# 4.How quickly does your compressed model classify an image?\n",
    "# 5.How much did compressing the model affect classification accuracy? "
   ]
  }
 ],
 "metadata": {
  "language_info": {
   "name": "python"
  }
 },
 "nbformat": 4,
 "nbformat_minor": 2
}
